{
 "cells": [
  {
   "cell_type": "markdown",
   "metadata": {},
   "source": [
    "# First part\n",
    "\n",
    "Before you leave, the Elves in accounting just need you to fix your expense report (your puzzle input); apparently, something isn't quite adding up.\n",
    "\n",
    "Specifically, they need you to find the two entries that sum to 2020 and then multiply those two numbers together.\n",
    "\n",
    "For example, suppose your expense report contained the following:\n",
    "\n",
    "- 1721\n",
    "- 979\n",
    "- 366\n",
    "- 299\n",
    "- 675\n",
    "- 1456\n",
    "\n",
    "In this list, the two entries that sum to 2020 are 1721 and 299. Multiplying them together produces 1721 * 299 = 514579, so the correct answer is 514579."
   ]
  },
  {
   "cell_type": "code",
   "execution_count": 1,
   "metadata": {},
   "outputs": [
    {
     "data": {
      "text/plain": [
       "997899"
      ]
     },
     "execution_count": 1,
     "metadata": {},
     "output_type": "execute_result"
    }
   ],
   "source": [
    "def find_the_two_entry(all_entries):\n",
    "    d = {}\n",
    "    for e in all_entries:\n",
    "        if e in d:\n",
    "            return e, d[e]\n",
    "        else:\n",
    "            d[2020-e] = e\n",
    "            \n",
    "def get_input():\n",
    "    with open('inputs/1_1') as f:\n",
    "        return (int(i) for i in f.read().splitlines())\n",
    "\n",
    "def result1():\n",
    "    all_entries = get_input()\n",
    "    a, b = find_the_two_entry(all_entries)\n",
    "    return a * b\n",
    "\n",
    "result1()"
   ]
  },
  {
   "cell_type": "markdown",
   "metadata": {},
   "source": [
    "# Second part\n",
    "\n",
    "The Elves in accounting are thankful for your help; one of them even offers you a starfish coin they had left over from a past vacation. They offer you a second one if you can find three numbers in your expense report that meet the same criteria.\n",
    "\n",
    "Using the above example again, the three entries that sum to 2020 are 979, 366, and 675. Multiplying them together produces the answer, 241861950.\n",
    "\n",
    "In your expense report, what is the product of the three entries that sum to 2020?\n"
   ]
  },
  {
   "cell_type": "code",
   "execution_count": null,
   "metadata": {},
   "outputs": [],
   "source": [
    "def find_entries(num_entries, target_sum, all_entries):\n",
    "    if num_entries == 1:\n",
    "        if target_sum in all_entries:\n",
    "            return (target_sum,)\n",
    "        else:\n",
    "            return  # Did not found entries\n",
    "    for i, e in enumerate(all_entries):\n",
    "        if e > target_sum:\n",
    "            continue  # It's sure that it's not in this branch.\n",
    "        others = find_entries(num_entries-1, target_sum-e, all_entries[:i])\n",
    "        if others is not None:\n",
    "            return (*others, e)\n",
    "\n",
    "def result2():\n",
    "    all_entries = list(get_input())\n",
    "    a, b, c = find_entries(3, 2020, all_entries)\n",
    "    return a * b * c\n",
    "\n",
    "result2()"
   ]
  },
  {
   "cell_type": "code",
   "execution_count": null,
   "metadata": {},
   "outputs": [],
   "source": [
    "TEST = [1721, 979, 366, 299, 675, 1456]\n",
    "find_entries(3, 2020, TEST)"
   ]
  },
  {
   "cell_type": "code",
   "execution_count": null,
   "metadata": {},
   "outputs": [],
   "source": [
    "find_entries(3, 2020, [1300, 979, 366, 299, 675, 1456])"
   ]
  }
 ],
 "metadata": {
  "kernelspec": {
   "display_name": "Python 3",
   "language": "python",
   "name": "python3"
  },
  "language_info": {
   "codemirror_mode": {
    "name": "ipython",
    "version": 3
   },
   "file_extension": ".py",
   "mimetype": "text/x-python",
   "name": "python",
   "nbconvert_exporter": "python",
   "pygments_lexer": "ipython3",
   "version": "3.5.2"
  }
 },
 "nbformat": 4,
 "nbformat_minor": 2
}
