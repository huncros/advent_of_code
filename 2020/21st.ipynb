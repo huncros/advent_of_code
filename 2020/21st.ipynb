{
 "cells": [
  {
   "cell_type": "markdown",
   "metadata": {},
   "source": [
    "# Part 1\n",
    "\n",
    "You reach the train's last stop and the closest you can get to your vacation island without getting wet. There aren't even any boats here, but nothing can stop you now: you build a raft. You just need a few days' worth of food for your journey.\n",
    "\n",
    "You don't speak the local language, so you can't read any ingredients lists. However, sometimes, allergens are listed in a language you do understand. You should be able to use this information to determine which ingredient contains which allergen and work out which foods are safe to take with you on your trip.\n",
    "\n",
    "You start by compiling a list of foods (your puzzle input), one food per line. Each line includes that food's ingredients list followed by some or all of the allergens the food contains.\n",
    "\n",
    "Each allergen is found in exactly one ingredient. Each ingredient contains zero or one allergen. Allergens aren't always marked; when they're listed (as in (contains nuts, shellfish) after an ingredients list), the ingredient that contains each listed allergen will be somewhere in the corresponding ingredients list. However, even if an allergen isn't listed, the ingredient that contains that allergen could still be present: maybe they forgot to label it, or maybe it was labeled in a language you don't know.\n",
    "\n",
    "For example, consider the following list of foods:\n",
    "```\n",
    "mxmxvkd kfcds sqjhc nhms (contains dairy, fish)\n",
    "trh fvjkl sbzzf mxmxvkd (contains dairy)\n",
    "sqjhc fvjkl (contains soy)\n",
    "sqjhc mxmxvkd sbzzf (contains fish)\n",
    "```\n",
    "\n",
    "The first food in the list has four ingredients (written in a language you don't understand): mxmxvkd, kfcds, sqjhc, and nhms. While the food might contain other allergens, a few allergens the food definitely contains are listed afterward: dairy and fish.\n",
    "\n",
    "The first step is to determine which ingredients can't possibly contain any of the allergens in any food in your list. In the above example, none of the ingredients kfcds, nhms, sbzzf, or trh can contain an allergen. Counting the number of times any of these ingredients appear in any ingredients list produces 5: they all appear once each except sbzzf, which appears twice.\n",
    "\n",
    "Determine which ingredients cannot possibly contain any of the allergens in your list. How many times do any of those ingredients appear?"
   ]
  },
  {
   "cell_type": "code",
   "execution_count": 1,
   "metadata": {},
   "outputs": [
    {
     "data": {
      "text/plain": [
       "2659"
      ]
     },
     "execution_count": 1,
     "metadata": {},
     "output_type": "execute_result"
    }
   ],
   "source": [
    "from collections import defaultdict\n",
    "\n",
    "\n",
    "def get_input():\n",
    "    with open('inputs/21') as f:\n",
    "        return [parse_food(line) for line in f.read().splitlines()]\n",
    "    \n",
    "\n",
    "def parse_food(line):\n",
    "    line = line.rstrip(')')\n",
    "    parts = line.split(' (contains ')\n",
    "    ings = parts[0].split(' ')\n",
    "    allergens = [] if len(parts) == 1 else parts[1].split(', ')\n",
    "    return {'ings': set(ings), 'allergens': set(allergens)}\n",
    "    \n",
    "\n",
    "def list_possible_ings_for_allergens(foods):\n",
    "    possible_ings_for_allergens = {}\n",
    "    for f in foods:\n",
    "        for a in f['allergens']:\n",
    "            if a not in possible_ings_for_allergens:\n",
    "                possible_ings_for_allergens[a] = f['ings'].copy()\n",
    "            else:\n",
    "                possible_ings_for_allergens[a].intersection_update(f['ings'])\n",
    "    return possible_ings_for_allergens\n",
    "\n",
    "\n",
    "def list_all_ings_and_allergens(foods):\n",
    "    all_ings = set()\n",
    "    all_allergens = set()\n",
    "    for f in foods:\n",
    "        all_ings.update(f['ings'])\n",
    "        all_allergens.update(f['allergens'])\n",
    "    return {'ings': all_ings, 'allergens': all_allergens}\n",
    "\n",
    "\n",
    "def find_safe_ings(foods):\n",
    "    possible_ings_for_allergens = list_possible_ings_for_allergens(foods)\n",
    "    dangerous_ings = set()\n",
    "    for a, ings in possible_ings_for_allergens.items():\n",
    "        dangerous_ings.update(ings)\n",
    "    all_ings = list_all_ings_and_allergens(foods)['ings']\n",
    "    return all_ings.difference(dangerous_ings)\n",
    "\n",
    "\n",
    "def count_safe_ing_appearances(foods):\n",
    "    safe_ings = find_safe_ings(foods)\n",
    "    result = 0\n",
    "    for f in foods:\n",
    "        result += len(f['ings'].intersection(safe_ings))\n",
    "    return result\n",
    "\n",
    "\n",
    "# TESTS\n",
    "test_file = '''mxmxvkd kfcds sqjhc nhms (contains dairy, fish)\n",
    "trh fvjkl sbzzf mxmxvkd (contains dairy)\n",
    "sqjhc fvjkl (contains soy)\n",
    "sqjhc mxmxvkd sbzzf (contains fish)'''\n",
    "test_inp = [parse_food(l) for l in test_file.splitlines()]\n",
    "assert find_safe_ings(test_inp) == {'kfcds', 'nhms', 'sbzzf', 'trh'}\n",
    "assert count_safe_ing_appearances(test_inp) == 5\n",
    "\n",
    "\n",
    "def result1():\n",
    "    foods = get_input()\n",
    "    return count_safe_ing_appearances(foods)\n",
    "\n",
    "\n",
    "result1()"
   ]
  },
  {
   "cell_type": "markdown",
   "metadata": {},
   "source": [
    "# Part 2\n",
    "\n",
    "Now that you've isolated the inert ingredients, you should have enough information to figure out which ingredient contains which allergen.\n",
    "\n",
    "In the above example:\n",
    "```\n",
    "mxmxvkd contains dairy.\n",
    "sqjhc contains fish.\n",
    "fvjkl contains soy.\n",
    "```\n",
    "Arrange the ingredients alphabetically by their allergen and separate them by commas to produce your canonical dangerous ingredient list. (There should not be any spaces in your canonical dangerous ingredient list.) In the above example, this would be mxmxvkd,sqjhc,fvjkl.\n",
    "\n",
    "Time to stock your raft with supplies. What is your canonical dangerous ingredient list?"
   ]
  },
  {
   "cell_type": "code",
   "execution_count": 2,
   "metadata": {},
   "outputs": [
    {
     "data": {
      "text/plain": [
       "'rcqb,cltx,nrl,qjvvcvz,tsqpn,xhnk,tfqsb,zqzmzl'"
      ]
     },
     "execution_count": 2,
     "metadata": {},
     "output_type": "execute_result"
    }
   ],
   "source": [
    "def match_allergens_with_ings(foods):\n",
    "    unmatched_allergens = list_possible_ings_for_allergens(foods)\n",
    "    result = {}\n",
    "    while len(unmatched_allergens) > 0:\n",
    "        allerg = min(unmatched_allergens, key= lambda a:len(unmatched_allergens[a]))\n",
    "        ings = unmatched_allergens.pop(allerg)\n",
    "        if len(ings) > 1:\n",
    "            raise Exception('Need a more sophisticated algorithm.')\n",
    "        if len(ings) == 0:\n",
    "            raise Exception('There is no solution.')\n",
    "        ing = list(ings)[0]\n",
    "        result[allerg] = ing\n",
    "        for a in unmatched_allergens:\n",
    "            unmatched_allergens[a].difference_update(ings)\n",
    "    return result\n",
    "\n",
    "\n",
    "def result2():\n",
    "    foods = get_input()\n",
    "    matched = match_allergens_with_ings(foods)\n",
    "    dangerous_ings = [matched[a] for a in sorted(matched)]\n",
    "    return ','.join(dangerous_ings)\n",
    "\n",
    "\n",
    "result2()"
   ]
  }
 ],
 "metadata": {
  "kernelspec": {
   "display_name": "Python 3",
   "language": "python",
   "name": "python3"
  },
  "language_info": {
   "codemirror_mode": {
    "name": "ipython",
    "version": 3
   },
   "file_extension": ".py",
   "mimetype": "text/x-python",
   "name": "python",
   "nbconvert_exporter": "python",
   "pygments_lexer": "ipython3",
   "version": "3.5.2"
  }
 },
 "nbformat": 4,
 "nbformat_minor": 2
}
