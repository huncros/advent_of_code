{
 "cells": [
  {
   "cell_type": "markdown",
   "metadata": {},
   "source": [
    "You land at the regional airport in time for your next flight. In fact, it looks like you'll even have time to grab some food: all flights are currently delayed due to issues in luggage processing.\n",
    "\n",
    "Due to recent aviation regulations, many rules (your puzzle input) are being enforced about bags and their contents; bags must be color-coded and must contain specific quantities of other color-coded bags. Apparently, nobody responsible for these regulations considered how long they would take to enforce!\n",
    "\n",
    "For example, consider the following rules:\n",
    "```\n",
    "light red bags contain 1 bright white bag, 2 muted yellow bags.\n",
    "dark orange bags contain 3 bright white bags, 4 muted yellow bags.\n",
    "bright white bags contain 1 shiny gold bag.\n",
    "muted yellow bags contain 2 shiny gold bags, 9 faded blue bags.\n",
    "shiny gold bags contain 1 dark olive bag, 2 vibrant plum bags.\n",
    "dark olive bags contain 3 faded blue bags, 4 dotted black bags.\n",
    "vibrant plum bags contain 5 faded blue bags, 6 dotted black bags.\n",
    "faded blue bags contain no other bags.\n",
    "dotted black bags contain no other bags.\n",
    "```\n",
    "These rules specify the required contents for 9 bag types. In this example, every faded blue bag is empty, every vibrant plum bag contains 11 bags (5 faded blue and 6 dotted black), and so on.\n",
    "\n",
    "You have a shiny gold bag. If you wanted to carry it in at least one other bag, how many different bag colors would be valid for the outermost bag? (In other words: how many colors can, eventually, contain at least one `shiny gold` bag?)\n",
    "\n",
    "In the above rules, the following options would be available to you:\n",
    "\n",
    "- A `bright white` bag, which can hold your `shiny gold` bag directly.\n",
    "- A `muted yellow` bag, which can hold your `shiny gold` bag directly, plus some other bags.\n",
    "- A `dark orange` bag, which can hold `bright white` and `muted yellow` bags, either of which could then hold your `shiny gold` bag.\n",
    "- A `light red` bag, which can hold `bright white` and `muted yellow` bags, either of which could then hold your `shiny gold` bag.\n",
    "\n",
    "So, in this example, the number of bag colors that can eventually contain at least one `shiny gold` bag is 4.\n",
    "\n",
    "How many bag colors can eventually contain at least one `shiny gold` bag? (The list of rules is quite long; make sure you get all of it.)"
   ]
  },
  {
   "cell_type": "code",
   "execution_count": 1,
   "metadata": {},
   "outputs": [
    {
     "data": {
      "text/plain": [
       "131"
      ]
     },
     "execution_count": 1,
     "metadata": {},
     "output_type": "execute_result"
    }
   ],
   "source": [
    "import re\n",
    "from collections import defaultdict\n",
    "\n",
    "\n",
    "def get_input():\n",
    "    with open('inputs/7') as f:\n",
    "        return f.read().splitlines()\n",
    "    \n",
    "def parse_rule(rule):\n",
    "    bag_color, contains = rule.split(' bags contain ')\n",
    "    parsed = {'color': bag_color, 'contains': []}\n",
    "    for item in contains.split(', '):\n",
    "        m = re.match(r'(?P<num>\\d+) (?P<color>[a-z ]+) bags?.?', item)\n",
    "        try:\n",
    "            groups = m.groupdict()\n",
    "            parsed['contains'].append({'num': int(groups['num']), 'color': groups['color']})\n",
    "        except:\n",
    "            if item != 'no other bags.':\n",
    "                print(item) \n",
    "    return parsed\n",
    "       \n",
    "def build_reverse_edges(parsed_rules):\n",
    "    edges = defaultdict(set)\n",
    "    for rule in parsed_rules:\n",
    "        outer_bag = rule['color']\n",
    "        for inner_bag in rule['contains']:\n",
    "            edges[inner_bag['color']].add(outer_bag)\n",
    "    return edges\n",
    "\n",
    "def find_reachables(start, edges):\n",
    "    reached = set()\n",
    "    queue = {start}\n",
    "    while len(queue) > 0:\n",
    "        item = queue.pop()\n",
    "        if item in reached:\n",
    "            continue\n",
    "        reached.add(item)\n",
    "        next_level = edges[item]\n",
    "        queue.update(next_level)\n",
    "    return reached\n",
    "\n",
    "def result1():\n",
    "    parsed_rules = [parse_rule(rule) for rule in get_input()]\n",
    "    edges = build_reverse_edges(parsed_rules)\n",
    "    reachables = find_reachables('shiny gold', edges)\n",
    "    return len(reachables) -1  # shiny gold is also reachable\n",
    "\n",
    "result1()"
   ]
  },
  {
   "cell_type": "markdown",
   "metadata": {},
   "source": [
    "# Part 2\n",
    "\n",
    "It's getting pretty expensive to fly these days - not because of ticket prices, but because of the ridiculous number of bags you need to buy!\n",
    "\n",
    "Consider again your `shiny gold` bag and the rules from the above example:\n",
    "\n",
    "```\n",
    "faded blue bags contain 0 other bags.\n",
    "dotted black bags contain 0 other bags.\n",
    "vibrant plum bags contain 11 other bags: 5 faded blue bags and 6 dotted black bags.\n",
    "dark olive bags contain 7 other bags: 3 faded blue bags and 4 dotted black bags.\n",
    "```\n",
    "\n",
    "So, a `single shiny` gold bag must contain 1 `dark olive` bag (and the 7 bags within it) plus 2 `vibrant plum` bags (and the 11 bags within each of those): 1 + 1*7 + 2 + 2*11 = 32 bags!\n",
    "\n",
    "Of course, the actual rules have a small chance of going several levels deeper than this example; be sure to count all of the bags, even if the nesting becomes topologically impractical!\n",
    "\n",
    "Here's another example:\n",
    "```\n",
    "shiny gold bags contain 2 dark red bags.\n",
    "dark red bags contain 2 dark orange bags.\n",
    "dark orange bags contain 2 dark yellow bags.\n",
    "dark yellow bags contain 2 dark green bags.\n",
    "dark green bags contain 2 dark blue bags.\n",
    "dark blue bags contain 2 dark violet bags.\n",
    "dark violet bags contain no other bags.\n",
    "```\n",
    "In this example, a single shiny gold bag must contain 126 other bags.\n",
    "\n",
    "How many individual bags are required inside your single shiny gold bag?"
   ]
  },
  {
   "cell_type": "code",
   "execution_count": 2,
   "metadata": {},
   "outputs": [
    {
     "data": {
      "text/plain": [
       "11261"
      ]
     },
     "execution_count": 2,
     "metadata": {},
     "output_type": "execute_result"
    }
   ],
   "source": [
    "def build_weighted_edges(parsed_rules):\n",
    "    edges = defaultdict(dict)\n",
    "    for rule in parsed_rules:\n",
    "        outer_bag = rule['color']\n",
    "        for inner_bag in rule['contains']:\n",
    "            edges[outer_bag][inner_bag['color']] = inner_bag['num']\n",
    "    return edges\n",
    "\n",
    "def num_must_contain(bag, weighted_edges):\n",
    "    return sum(num * (1 + num_must_contain(color, weighted_edges)) for color, num in weighted_edges[bag].items())\n",
    "    \n",
    "def result2():\n",
    "    parsed_rules = [parse_rule(rule) for rule in get_input()]\n",
    "    weighted_edges = build_weighted_edges(parsed_rules)\n",
    "    return num_must_contain('shiny gold', weighted_edges)\n",
    "\n",
    "result2()"
   ]
  }
 ],
 "metadata": {
  "kernelspec": {
   "display_name": "Python 3",
   "language": "python",
   "name": "python3"
  },
  "language_info": {
   "codemirror_mode": {
    "name": "ipython",
    "version": 3
   },
   "file_extension": ".py",
   "mimetype": "text/x-python",
   "name": "python",
   "nbconvert_exporter": "python",
   "pygments_lexer": "ipython3",
   "version": "3.6.8"
  }
 },
 "nbformat": 4,
 "nbformat_minor": 2
}
