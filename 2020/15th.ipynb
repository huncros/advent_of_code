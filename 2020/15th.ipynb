{
 "cells": [
  {
   "cell_type": "markdown",
   "metadata": {},
   "source": [
    "# Part 1\n",
    "\n",
    "You catch the airport shuttle and try to book a new flight to your vacation island. Due to the storm, all direct flights have been cancelled, but a route is available to get around the storm. You take it.\n",
    "\n",
    "While you wait for your flight, you decide to check in with the Elves back at the North Pole. They're playing a memory game and are ever so excited to explain the rules!\n",
    "\n",
    "In this game, the players take turns saying numbers. They begin by taking turns reading from a list of starting numbers (your puzzle input). Then, each turn consists of considering the most recently spoken number:\n",
    "\n",
    "If that was the first time the number has been spoken, the current player says 0.\n",
    "Otherwise, the number had been spoken before; the current player announces how many turns apart the number is from when it was previously spoken.\n",
    "So, after the starting numbers, each turn results in that player speaking aloud either 0 (if the last number is new) or an age (if the last number is a repeat).\n",
    "\n",
    "For example, suppose the starting numbers are `0,3,6`:\n",
    "```\n",
    "Turn 1: The 1st number spoken is a starting number, 0.\n",
    "Turn 2: The 2nd number spoken is a starting number, 3.\n",
    "Turn 3: The 3rd number spoken is a starting number, 6.\n",
    "Turn 4: Now, consider the last number spoken, 6. Since that was the first time the number had been spoken, the 4th \n",
    "number spoken is 0.\n",
    "Turn 5: Next, again consider the last number spoken, 0. Since it had been spoken before, the next number to speak is the difference between the turn number when it was last spoken (the previous turn, 4) and the turn number of the time it was most recently spoken before then (turn 1). Thus, the 5th number spoken is 4 - 1, 3.\n",
    "Turn 6: The last number spoken, 3 had also been spoken before, most recently on turns 5 and 2. So, the 6th number spoken is 5 - 2, 3.\n",
    "Turn 7: Since 3 was just spoken twice in a row, and the last two turns are 1 turn apart, the 7th number spoken is 1.\n",
    "Turn 8: Since 1 is new, the 8th number spoken is 0.\n",
    "Turn 9: 0 was last spoken on turns 8 and 4, so the 9th number spoken is the difference between them, 4.\n",
    "Turn 10: 4 is new, so the 10th number spoken is 0.\n",
    "```\n",
    "(The game ends when the Elves get sick of playing or dinner is ready, whichever comes first.)\n",
    "\n",
    "Their question for you is: what will be the 2020th number spoken? In the example above, the 2020th number spoken will be 436.\n",
    "\n",
    "Here are a few more examples:\n",
    "- Given the starting numbers `1,3,2`, the 2020th number spoken is `1`.\n",
    "- Given the starting numbers `2,1,3`, the 2020th number spoken is `10`.\n",
    "- Given the starting numbers `1,2,3`, the 2020th number spoken is `27`.\n",
    "- Given the starting numbers `2,3,1`, the 2020th number spoken is `78`.\n",
    "- Given the starting numbers `3,2,1`, the 2020th number spoken is `438`.\n",
    "- Given the starting numbers `3,1,2`, the 2020th number spoken is `1836`.\n",
    "\n",
    "Given your starting numbers, what will be the 2020th number spoken?"
   ]
  },
  {
   "cell_type": "code",
   "execution_count": 1,
   "metadata": {},
   "outputs": [
    {
     "data": {
      "text/plain": [
       "289"
      ]
     },
     "execution_count": 1,
     "metadata": {},
     "output_type": "execute_result"
    }
   ],
   "source": [
    "from collections import defaultdict\n",
    "\n",
    "\n",
    "MY_STARTING_NUMBERS = [0, 8, 15, 2, 12, 1, 4]\n",
    "\n",
    "\n",
    "class StoreLastTwo:\n",
    "    def __init__(self):\n",
    "        self._last_two = []\n",
    "    \n",
    "    def __repr__(self):\n",
    "        return str(self._last_two)\n",
    "    \n",
    "    def add(self, new_num):\n",
    "        x = self._last_two + [new_num]\n",
    "        self._last_two = x[-2:]\n",
    "    \n",
    "    def diff(self):\n",
    "        if len(self._last_two) < 2:\n",
    "            return 0\n",
    "        else:\n",
    "            return self._last_two[1] - self._last_two[0]\n",
    "\n",
    "        \n",
    "def play(starting_numbers):\n",
    "    current_turn = 0\n",
    "    prev_num = None\n",
    "    last_2_turns_per_num = defaultdict(StoreLastTwo)\n",
    "    for i in starting_numbers:\n",
    "        current_turn += 1\n",
    "        yield i\n",
    "        last_2_turns_per_num[i].add(current_turn)\n",
    "        prev_num = i\n",
    "    while True:\n",
    "        current_turn += 1\n",
    "        current_num = last_2_turns_per_num[prev_num].diff()\n",
    "        yield current_num\n",
    "        last_2_turns_per_num[current_num].add(current_turn)\n",
    "        prev_num = current_num\n",
    "\n",
    "\n",
    "def test_play():\n",
    "    starting_numbers = [0, 3, 6]\n",
    "    p = play(starting_numbers)\n",
    "    expected = [0, 3, 6, 0, 3, 3, 1, 0, 4, 0]\n",
    "    received = [next(p) for i in range(10)]\n",
    "    if received != expected:\n",
    "        raise Exception('Test test_play failed. Expected: %s, received: %s' % (expected, received))\n",
    "\n",
    "\n",
    "test_play()\n",
    "\n",
    "\n",
    "def result1():\n",
    "    p = play(MY_STARTING_NUMBERS)\n",
    "    for i in range(2020):\n",
    "        res = next(p)\n",
    "    return res\n",
    "\n",
    "\n",
    "result1()"
   ]
  },
  {
   "cell_type": "markdown",
   "metadata": {},
   "source": [
    "# Part 2\n",
    "\n",
    "Impressed, the Elves issue you a challenge: determine the 30000000th number spoken. For example, given the same starting numbers as above:\n",
    "```\n",
    "Given 0,3,6, the 30000000th number spoken is 175594.\n",
    "Given 1,3,2, the 30000000th number spoken is 2578.\n",
    "Given 2,1,3, the 30000000th number spoken is 3544142.\n",
    "Given 1,2,3, the 30000000th number spoken is 261214.\n",
    "Given 2,3,1, the 30000000th number spoken is 6895259.\n",
    "Given 3,2,1, the 30000000th number spoken is 18.\n",
    "Given 3,1,2, the 30000000th number spoken is 362.\n",
    "```\n",
    "Given your starting numbers, what will be the 30000000th number spoken?"
   ]
  },
  {
   "cell_type": "code",
   "execution_count": 2,
   "metadata": {},
   "outputs": [
    {
     "name": "stdout",
     "output_type": "stream",
     "text": [
      "[>>>>>>>>>|>>>>>>>>>|>>>>>>>>>|>>>>>>>>>|>>>>>>>>>||>>>>>>>>>|>>>>>>>>>|>>>>>>>>>|>>>>>>>>>|>>>>>>>>>]\n",
      "CPU times: user 2min 18s, sys: 1.36 s, total: 2min 19s\n",
      "Wall time: 2min 19s\n"
     ]
    },
    {
     "data": {
      "text/plain": [
       "1505722"
      ]
     },
     "execution_count": 2,
     "metadata": {},
     "output_type": "execute_result"
    }
   ],
   "source": [
    "class SimpleProgressBar:\n",
    "    def __init__(self):\n",
    "        self.progress = 0\n",
    "    \n",
    "    def next(self):\n",
    "        self.progress += 1\n",
    "        self.add_tick()\n",
    "\n",
    "    def add_tick(self):\n",
    "        if self.progress == 100:\n",
    "            print(']')\n",
    "        elif self.progress == 50:\n",
    "            print('||', end='')\n",
    "        elif self.progress % 10 == 0:\n",
    "            print('|', end='')\n",
    "        elif self.progress == 1:\n",
    "            print('[>', end='')\n",
    "        else:\n",
    "            print('>', end='')\n",
    "\n",
    "            \n",
    "def result2():\n",
    "    p = play(MY_STARTING_NUMBERS)\n",
    "    target = 30000000\n",
    "    bar = SimpleProgressBar()\n",
    "    one_percent = target / 100\n",
    "    for i in range(target):\n",
    "        if i % (one_percent) == 0:\n",
    "            bar.next()\n",
    "        res = next(p)\n",
    "    return res\n",
    "\n",
    "\n",
    "%time result2()"
   ]
  }
 ],
 "metadata": {
  "kernelspec": {
   "display_name": "Python 3",
   "language": "python",
   "name": "python3"
  },
  "language_info": {
   "codemirror_mode": {
    "name": "ipython",
    "version": 3
   },
   "file_extension": ".py",
   "mimetype": "text/x-python",
   "name": "python",
   "nbconvert_exporter": "python",
   "pygments_lexer": "ipython3",
   "version": "3.5.2"
  }
 },
 "nbformat": 4,
 "nbformat_minor": 2
}
